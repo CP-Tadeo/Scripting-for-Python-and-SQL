{
 "cells": [
  {
   "cell_type": "code",
   "execution_count": 5,
   "id": "746f3608",
   "metadata": {},
   "outputs": [],
   "source": [
    "import os\n",
    "home_items = os.listdir('/Users/Norbert')\n",
    "home_content = {\"files\":[],\"directories\":[]}"
   ]
  },
  {
   "cell_type": "code",
   "execution_count": 6,
   "id": "cbf8bc08",
   "metadata": {},
   "outputs": [],
   "source": [
    "home_paths =[os.path.join('/Users/Norbert', item) for item in home_items]\n",
    "for path in home_paths:\n",
    "    if os.path.isdir(path):\n",
    "        home_content['directories'].append(path)\n",
    "    if os.path.isfile(path):\n",
    "        home_content['files'].append(path)"
   ]
  },
  {
   "cell_type": "code",
   "execution_count": 8,
   "id": "e05f604b",
   "metadata": {},
   "outputs": [
    {
     "data": {
      "text/plain": [
       "['/Users/Norbert\\\\.android',\n",
       " '/Users/Norbert\\\\.aws',\n",
       " '/Users/Norbert\\\\.azure',\n",
       " '/Users/Norbert\\\\.cache',\n",
       " '/Users/Norbert\\\\.conda',\n",
       " '/Users/Norbert\\\\.continuum',\n",
       " '/Users/Norbert\\\\.docker',\n",
       " '/Users/Norbert\\\\.ipynb_checkpoints',\n",
       " '/Users/Norbert\\\\.ipython',\n",
       " '/Users/Norbert\\\\.jupyter',\n",
       " '/Users/Norbert\\\\.matplotlib',\n",
       " '/Users/Norbert\\\\.ssh',\n",
       " '/Users/Norbert\\\\.streamlit',\n",
       " '/Users/Norbert\\\\.virtualenvs',\n",
       " '/Users/Norbert\\\\.vscode',\n",
       " '/Users/Norbert\\\\2DSample',\n",
       " '/Users/Norbert\\\\anaconda3',\n",
       " '/Users/Norbert\\\\AppData',\n",
       " '/Users/Norbert\\\\Application Data',\n",
       " '/Users/Norbert\\\\Contacts',\n",
       " '/Users/Norbert\\\\Cookies',\n",
       " '/Users/Norbert\\\\CSCI 115 - Jupyter',\n",
       " '/Users/Norbert\\\\Documents',\n",
       " '/Users/Norbert\\\\Downloads',\n",
       " '/Users/Norbert\\\\Experimental Codes',\n",
       " '/Users/Norbert\\\\Favorites',\n",
       " '/Users/Norbert\\\\Game1',\n",
       " '/Users/Norbert\\\\getting-started',\n",
       " '/Users/Norbert\\\\Jupyterlab-area',\n",
       " '/Users/Norbert\\\\Links',\n",
       " '/Users/Norbert\\\\Local Settings',\n",
       " '/Users/Norbert\\\\Music',\n",
       " '/Users/Norbert\\\\My Documents',\n",
       " '/Users/Norbert\\\\My project',\n",
       " '/Users/Norbert\\\\My project (1)',\n",
       " '/Users/Norbert\\\\myenv',\n",
       " '/Users/Norbert\\\\NetHood',\n",
       " '/Users/Norbert\\\\OneDrive',\n",
       " '/Users/Norbert\\\\PrintHood',\n",
       " '/Users/Norbert\\\\Recent',\n",
       " '/Users/Norbert\\\\Saved Games',\n",
       " '/Users/Norbert\\\\Searches',\n",
       " '/Users/Norbert\\\\SendTo',\n",
       " '/Users/Norbert\\\\source',\n",
       " '/Users/Norbert\\\\Start Menu',\n",
       " '/Users/Norbert\\\\Templates',\n",
       " '/Users/Norbert\\\\Untitled Folder 1',\n",
       " '/Users/Norbert\\\\Videos']"
      ]
     },
     "execution_count": 8,
     "metadata": {},
     "output_type": "execute_result"
    }
   ],
   "source": [
    "home_content['directories']"
   ]
  },
  {
   "cell_type": "code",
   "execution_count": 10,
   "id": "bafda050",
   "metadata": {},
   "outputs": [],
   "source": [
    "sql_file = open(\"SQLHOA-E-194796.sql\")\n",
    "sql_contents = sql_file.readlines()\n",
    "sql_contents\n",
    "sql_file.close()"
   ]
  },
  {
   "cell_type": "code",
   "execution_count": 14,
   "id": "f044ce83",
   "metadata": {},
   "outputs": [],
   "source": [
    "import os\n",
    "def main():\n",
    "    for root, directories, files in os.walk(\"~/Untitled Folder\"):\n",
    "        print(f\"Root:{root}\")\n",
    "        print(f\"Directories:{directories}\")\n",
    "        print(f\"Files:{files}\")\n",
    "\n",
    "if __name__ == '__main__':\n",
    "    main()"
   ]
  },
  {
   "cell_type": "code",
   "execution_count": 11,
   "id": "3a3b4346",
   "metadata": {},
   "outputs": [
    {
     "data": {
      "text/plain": [
       "['.ipynb_checkpoints',\n",
       " 'edgedriver_win32',\n",
       " 'edgedriver_win32.zip',\n",
       " 'Networking-With-Python.ipynb',\n",
       " 'Reddit-Scraper.ipynb',\n",
       " 'Scripting-With-Python.ipynb',\n",
       " 'SQLHOA-E-194796.sql',\n",
       " 'Untitled Folder']"
      ]
     },
     "execution_count": 11,
     "metadata": {},
     "output_type": "execute_result"
    }
   ],
   "source": [
    "home_items"
   ]
  },
  {
   "cell_type": "code",
   "execution_count": 1,
   "id": "a0614e69",
   "metadata": {},
   "outputs": [
    {
     "name": "stdout",
     "output_type": "stream",
     "text": [
      "work\n"
     ]
    }
   ],
   "source": [
    "print(\"work\")"
   ]
  }
 ],
 "metadata": {
  "kernelspec": {
   "display_name": "Python 3 (ipykernel)",
   "language": "python",
   "name": "python3"
  },
  "language_info": {
   "codemirror_mode": {
    "name": "ipython",
    "version": 3
   },
   "file_extension": ".py",
   "mimetype": "text/x-python",
   "name": "python",
   "nbconvert_exporter": "python",
   "pygments_lexer": "ipython3",
   "version": "3.9.13"
  }
 },
 "nbformat": 4,
 "nbformat_minor": 5
}
