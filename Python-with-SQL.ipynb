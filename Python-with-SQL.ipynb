{
 "cells": [
  {
   "cell_type": "code",
   "execution_count": 24,
   "metadata": {},
   "outputs": [],
   "source": [
    "#pip install faker\n",
    "#generates random names. if you dont have it. install using cmd or running the line"
   ]
  },
  {
   "cell_type": "code",
   "execution_count": 7,
   "metadata": {},
   "outputs": [],
   "source": [
    "from faker import Faker\n",
    "fake = Faker()\n",
    "names = [fake.name().split() for i in range(100)]"
   ]
  },
  {
   "cell_type": "code",
   "execution_count": 16,
   "metadata": {},
   "outputs": [
    {
     "data": {
      "text/plain": [
       "[['Sheena', 'Morse'],\n",
       " ['Joshua', 'Rojas'],\n",
       " ['Steve', 'Gilmore'],\n",
       " ['Gabriella', 'Swanson'],\n",
       " ['Andrew', 'Webb'],\n",
       " ['Tina', 'Hoffman'],\n",
       " ['Eric', 'Dickson'],\n",
       " ['Randy', 'Willis'],\n",
       " ['Robert', 'Bennett'],\n",
       " ['Arthur', 'Richards'],\n",
       " ['Jonathan', 'Harris'],\n",
       " ['Alexander', 'Juarez'],\n",
       " ['Stephen', 'Bennett'],\n",
       " ['Raymond', 'Tucker'],\n",
       " ['Diamond', 'Harmon'],\n",
       " ['Ashley', 'Norman'],\n",
       " ['Ashley', 'Garcia'],\n",
       " ['Nathaniel', 'Chavez'],\n",
       " ['Michael', 'Allen'],\n",
       " ['Erin', 'Campbell'],\n",
       " ['Michael', 'Ruiz'],\n",
       " ['David', 'Nelson'],\n",
       " ['Alexis', 'Hall'],\n",
       " ['Elizabeth', 'Hall'],\n",
       " ['Corey', 'Carr'],\n",
       " ['Stacy', 'Henderson'],\n",
       " ['Danielle', 'Palmer'],\n",
       " ['Evelyn', 'Morrow'],\n",
       " ['Tony', 'Ferguson'],\n",
       " ['Thomas', 'Hoover'],\n",
       " ['Dominique', 'Williams'],\n",
       " ['Brooke', 'Bailey'],\n",
       " ['Andrea', 'Gonzalez'],\n",
       " ['Alexander', 'Carr'],\n",
       " ['Jacob', 'Clay'],\n",
       " ['Austin', 'Bell'],\n",
       " ['Vanessa', 'Thompson'],\n",
       " ['Jennifer', 'Hamilton'],\n",
       " ['Michael', 'Barry'],\n",
       " ['Jonathan', 'Thomas'],\n",
       " ['Anthony', 'Richards'],\n",
       " ['Laura', 'Zimmerman'],\n",
       " ['Ashley', 'Klein'],\n",
       " ['Walter', 'Gomez'],\n",
       " ['Karen', 'Jackson'],\n",
       " ['Emily', 'Miller'],\n",
       " ['Joshua', 'Berry'],\n",
       " ['Alexander', 'Vasquez'],\n",
       " ['Jason', 'Mendoza'],\n",
       " ['Alexander', 'Douglas'],\n",
       " ['Hayden', 'Lawson'],\n",
       " ['Chloe', 'Munoz'],\n",
       " ['Kevin', 'Kent'],\n",
       " ['Brittany', 'Cox'],\n",
       " ['Jonathan', 'Mendoza'],\n",
       " ['Aaron', 'Johnson'],\n",
       " ['Lauren', 'Banks'],\n",
       " ['Emily', 'Pham'],\n",
       " ['Christopher', 'Case'],\n",
       " ['Timothy', 'Delacruz'],\n",
       " ['Susan', 'White'],\n",
       " ['Brittany', 'Acosta'],\n",
       " ['Karen', 'Nolan'],\n",
       " ['Samantha', 'Lynch'],\n",
       " ['Samuel', 'Brown'],\n",
       " ['Jeffrey', 'King'],\n",
       " ['Jose', 'Dixon'],\n",
       " ['Heather', 'Smith'],\n",
       " ['Pamela', 'Bullock'],\n",
       " ['Charles', 'Evans'],\n",
       " ['Zachary', 'Arnold'],\n",
       " ['Melissa', 'Thompson'],\n",
       " ['Sara', 'Carter'],\n",
       " ['Lisa', 'Rodriguez'],\n",
       " ['Bryce', 'Lee'],\n",
       " ['Melissa', 'Gallegos'],\n",
       " ['Justin', 'Cook'],\n",
       " ['Spencer', 'Riley'],\n",
       " ['Glen', 'Davis'],\n",
       " ['Rebecca', 'Ward'],\n",
       " ['Ashley', 'Hodge'],\n",
       " ['Sarah', 'Smith'],\n",
       " ['Dennis', 'Gutierrez'],\n",
       " ['Diane', 'Walsh'],\n",
       " ['Joseph', 'Walton'],\n",
       " ['Samantha', 'Smith'],\n",
       " ['Monique', 'Austin'],\n",
       " ['Wesley', 'Luna'],\n",
       " ['William', 'Walker'],\n",
       " ['Brandon', 'Haas'],\n",
       " ['Brian', 'Kennedy'],\n",
       " ['Michael', 'Barrera'],\n",
       " ['Sandra', 'Lee']]"
      ]
     },
     "execution_count": 16,
     "metadata": {},
     "output_type": "execute_result"
    }
   ],
   "source": [
    "names"
   ]
  },
  {
   "cell_type": "code",
   "execution_count": 9,
   "metadata": {},
   "outputs": [
    {
     "data": {
      "text/plain": [
       "[['Sheena', 'Morse'],\n",
       " ['Joshua', 'Rojas'],\n",
       " ['Steve', 'Gilmore'],\n",
       " ['Gabriella', 'Swanson'],\n",
       " ['Andrew', 'Webb'],\n",
       " ['Tina', 'Hoffman'],\n",
       " ['Eric', 'Dickson'],\n",
       " ['Randy', 'Willis'],\n",
       " ['Robert', 'Bennett'],\n",
       " ['Arthur', 'Richards'],\n",
       " ['Jonathan', 'Harris'],\n",
       " ['Alexander', 'Juarez'],\n",
       " ['Stephen', 'Bennett'],\n",
       " ['Raymond', 'Tucker'],\n",
       " ['Diamond', 'Harmon'],\n",
       " ['Ashley', 'Norman'],\n",
       " ['Ashley', 'Garcia'],\n",
       " ['Nathaniel', 'Chavez'],\n",
       " ['Michael', 'Allen'],\n",
       " ['Erin', 'Campbell'],\n",
       " ['Michael', 'Ruiz'],\n",
       " ['David', 'Nelson'],\n",
       " ['Alexis', 'Hall'],\n",
       " ['Elizabeth', 'Hall'],\n",
       " ['Corey', 'Carr'],\n",
       " ['Stacy', 'Henderson'],\n",
       " ['Danielle', 'Palmer'],\n",
       " ['Evelyn', 'Morrow'],\n",
       " ['Tony', 'Ferguson'],\n",
       " ['Thomas', 'Hoover'],\n",
       " ['Dominique', 'Williams'],\n",
       " ['Brooke', 'Bailey'],\n",
       " ['Andrea', 'Gonzalez'],\n",
       " ['Alexander', 'Carr'],\n",
       " ['Jacob', 'Clay'],\n",
       " ['Austin', 'Bell'],\n",
       " ['Vanessa', 'Thompson'],\n",
       " ['Jennifer', 'Hamilton'],\n",
       " ['Michael', 'Barry'],\n",
       " ['Jonathan', 'Thomas'],\n",
       " ['Anthony', 'Richards'],\n",
       " ['Laura', 'Zimmerman'],\n",
       " ['Ashley', 'Klein'],\n",
       " ['Walter', 'Gomez'],\n",
       " ['Karen', 'Jackson'],\n",
       " ['Emily', 'Miller'],\n",
       " ['Joshua', 'Berry'],\n",
       " ['Alexander', 'Vasquez'],\n",
       " ['Jason', 'Mendoza'],\n",
       " ['Alexander', 'Douglas'],\n",
       " ['Hayden', 'Lawson'],\n",
       " ['Chloe', 'Munoz'],\n",
       " ['Kevin', 'Kent'],\n",
       " ['Brittany', 'Cox'],\n",
       " ['Jonathan', 'Mendoza'],\n",
       " ['Aaron', 'Johnson'],\n",
       " ['Lauren', 'Banks'],\n",
       " ['Emily', 'Pham'],\n",
       " ['Christopher', 'Case'],\n",
       " ['Timothy', 'Delacruz'],\n",
       " ['Susan', 'White'],\n",
       " ['Brittany', 'Acosta'],\n",
       " ['Karen', 'Nolan'],\n",
       " ['Samantha', 'Lynch'],\n",
       " ['Samuel', 'Brown'],\n",
       " ['Jeffrey', 'King'],\n",
       " ['Jose', 'Dixon'],\n",
       " ['Heather', 'Smith'],\n",
       " ['Pamela', 'Bullock'],\n",
       " ['Charles', 'Evans'],\n",
       " ['Zachary', 'Arnold'],\n",
       " ['Melissa', 'Thompson'],\n",
       " ['Sara', 'Carter'],\n",
       " ['Lisa', 'Rodriguez'],\n",
       " ['Bryce', 'Lee'],\n",
       " ['Melissa', 'Gallegos'],\n",
       " ['Justin', 'Cook'],\n",
       " ['Spencer', 'Riley'],\n",
       " ['Glen', 'Davis'],\n",
       " ['Rebecca', 'Ward'],\n",
       " ['Ashley', 'Hodge'],\n",
       " ['Sarah', 'Smith'],\n",
       " ['Dennis', 'Gutierrez'],\n",
       " ['Diane', 'Walsh'],\n",
       " ['Joseph', 'Walton'],\n",
       " ['Samantha', 'Smith'],\n",
       " ['Monique', 'Austin'],\n",
       " ['Wesley', 'Luna'],\n",
       " ['William', 'Walker'],\n",
       " ['Brandon', 'Haas'],\n",
       " ['Brian', 'Kennedy'],\n",
       " ['Michael', 'Barrera'],\n",
       " ['Sandra', 'Lee']]"
      ]
     },
     "execution_count": 9,
     "metadata": {},
     "output_type": "execute_result"
    }
   ],
   "source": [
    "names= [name for name in names if len(name) == 2]\n",
    "\n",
    "names"
   ]
  },
  {
   "cell_type": "code",
   "execution_count": 10,
   "metadata": {},
   "outputs": [
    {
     "data": {
      "text/plain": [
       "93"
      ]
     },
     "execution_count": 10,
     "metadata": {},
     "output_type": "execute_result"
    }
   ],
   "source": [
    "len(names)"
   ]
  },
  {
   "cell_type": "code",
   "execution_count": 12,
   "metadata": {},
   "outputs": [],
   "source": [
    "import sqlite3\n",
    "connection = sqlite3.connect(\"sample.db\")\n",
    "insert_query = 'INSERT INTO people (name, surname) VALUES(?, ?)'\n",
    "cursor = connection.cursor()\n",
    "for name in names:\n",
    "    cursor.execute(insert_query, name)\n",
    "connection.commit()\n"
   ]
  },
  {
   "cell_type": "code",
   "execution_count": 13,
   "metadata": {},
   "outputs": [],
   "source": [
    "insert_query = 'INSERT INTO people (name, surname) VALUES(?, ?)'\n",
    "cursor = connection.cursor()\n",
    "for name in names:\n",
    "    cursor.execute(insert_query, name)\n",
    "connection.commit()"
   ]
  },
  {
   "cell_type": "code",
   "execution_count": 23,
   "metadata": {},
   "outputs": [
    {
     "name": "stdout",
     "output_type": "stream",
     "text": [
      "(1, 'Sheena', 'Morse')\n",
      "(2, 'Joshua', 'Rojas')\n",
      "(3, 'Steve', 'Gilmore')\n",
      "(4, 'Gabriella', 'Swanson')\n",
      "(5, 'Andrew', 'Webb')\n",
      "(6, 'Tina', 'Hoffman')\n",
      "(7, 'Eric', 'Dickson')\n",
      "(8, 'Randy', 'Willis')\n",
      "(9, 'Robert', 'Bennett')\n",
      "(10, 'Arthur', 'Richards')\n",
      "(11, 'Jonathan', 'Harris')\n",
      "(12, 'Alexander', 'Juarez')\n",
      "(13, 'Stephen', 'Bennett')\n",
      "(14, 'Raymond', 'Tucker')\n",
      "(15, 'Diamond', 'Harmon')\n",
      "(16, 'Ashley', 'Norman')\n",
      "(17, 'Ashley', 'Garcia')\n",
      "(18, 'Nathaniel', 'Chavez')\n",
      "(19, 'Michael', 'Allen')\n",
      "(20, 'Erin', 'Campbell')\n",
      "(21, 'Michael', 'Ruiz')\n",
      "(22, 'David', 'Nelson')\n",
      "(23, 'Alexis', 'Hall')\n",
      "(24, 'Elizabeth', 'Hall')\n",
      "(25, 'Corey', 'Carr')\n",
      "(26, 'Stacy', 'Henderson')\n",
      "(27, 'Danielle', 'Palmer')\n",
      "(28, 'Evelyn', 'Morrow')\n",
      "(29, 'Tony', 'Ferguson')\n",
      "(30, 'Thomas', 'Hoover')\n",
      "(31, 'Dominique', 'Williams')\n",
      "(32, 'Brooke', 'Bailey')\n",
      "(33, 'Andrea', 'Gonzalez')\n",
      "(34, 'Alexander', 'Carr')\n",
      "(35, 'Jacob', 'Clay')\n",
      "(36, 'Austin', 'Bell')\n",
      "(37, 'Vanessa', 'Thompson')\n",
      "(38, 'Jennifer', 'Hamilton')\n",
      "(39, 'Michael', 'Barry')\n",
      "(40, 'Jonathan', 'Thomas')\n",
      "(41, 'Anthony', 'Richards')\n",
      "(42, 'Laura', 'Zimmerman')\n",
      "(43, 'Ashley', 'Klein')\n",
      "(44, 'Walter', 'Gomez')\n",
      "(45, 'Karen', 'Jackson')\n",
      "(46, 'Emily', 'Miller')\n",
      "(47, 'Joshua', 'Berry')\n",
      "(48, 'Alexander', 'Vasquez')\n",
      "(49, 'Jason', 'Mendoza')\n",
      "(50, 'Alexander', 'Douglas')\n",
      "(51, 'Hayden', 'Lawson')\n",
      "(52, 'Chloe', 'Munoz')\n",
      "(53, 'Kevin', 'Kent')\n",
      "(54, 'Brittany', 'Cox')\n",
      "(55, 'Jonathan', 'Mendoza')\n",
      "(56, 'Aaron', 'Johnson')\n",
      "(57, 'Lauren', 'Banks')\n",
      "(58, 'Emily', 'Pham')\n",
      "(59, 'Christopher', 'Case')\n",
      "(60, 'Timothy', 'Delacruz')\n",
      "(61, 'Susan', 'White')\n",
      "(62, 'Brittany', 'Acosta')\n",
      "(63, 'Karen', 'Nolan')\n",
      "(64, 'Samantha', 'Lynch')\n",
      "(65, 'Samuel', 'Brown')\n",
      "(66, 'Jeffrey', 'King')\n",
      "(67, 'Jose', 'Dixon')\n",
      "(68, 'Heather', 'Smith')\n",
      "(69, 'Pamela', 'Bullock')\n",
      "(70, 'Charles', 'Evans')\n",
      "(71, 'Zachary', 'Arnold')\n",
      "(72, 'Melissa', 'Thompson')\n",
      "(73, 'Sara', 'Carter')\n",
      "(74, 'Lisa', 'Rodriguez')\n",
      "(75, 'Bryce', 'Lee')\n",
      "(76, 'Melissa', 'Gallegos')\n",
      "(77, 'Justin', 'Cook')\n",
      "(78, 'Spencer', 'Riley')\n",
      "(79, 'Glen', 'Davis')\n",
      "(80, 'Rebecca', 'Ward')\n",
      "(81, 'Ashley', 'Hodge')\n",
      "(82, 'Sarah', 'Smith')\n",
      "(83, 'Dennis', 'Gutierrez')\n",
      "(84, 'Diane', 'Walsh')\n",
      "(85, 'Joseph', 'Walton')\n",
      "(86, 'Samantha', 'Smith')\n",
      "(87, 'Monique', 'Austin')\n",
      "(88, 'Wesley', 'Luna')\n",
      "(89, 'William', 'Walker')\n",
      "(90, 'Brandon', 'Haas')\n",
      "(91, 'Brian', 'Kennedy')\n",
      "(92, 'Michael', 'Barrera')\n",
      "(93, 'Sandra', 'Lee')\n"
     ]
    }
   ],
   "source": [
    "#check if work\n",
    "#SELECT query\n",
    "select_query = 'SELECT * from people'\n",
    "for result in cursor.execute(select_query):\n",
    "    print(result)"
   ]
  },
  {
   "cell_type": "code",
   "execution_count": 32,
   "metadata": {},
   "outputs": [
    {
     "name": "stdout",
     "output_type": "stream",
     "text": [
      "('Webb',)\n",
      "('Willis',)\n",
      "('Williams',)\n",
      "('White',)\n",
      "('Ward',)\n",
      "('Walsh',)\n",
      "('Walton',)\n",
      "('Walker',)\n"
     ]
    }
   ],
   "source": [
    "query = 'SELECT surname FROM people'\n",
    "for result in cursor.execute(query):\n",
    "    if result[0][0] == 'W':\n",
    "        print(result)"
   ]
  },
  {
   "cell_type": "code",
   "execution_count": 42,
   "metadata": {},
   "outputs": [
    {
     "name": "stdout",
     "output_type": "stream",
     "text": [
      "First name: Alexander, Last name: Juarez\n",
      "First name: Alexander, Last name: Carr\n",
      "First name: Alexander, Last name: Vasquez\n",
      "First name: Alexander, Last name: Douglas\n"
     ]
    }
   ],
   "source": [
    "query = 'SELECT name, surname FROM people WHERE name = \"Alexander\" ORDER BY name DESC'\n",
    "for result in cursor.execute(query):\n",
    "    print(f\"First name: {result[0]}, Last name: {result[1]}\")"
   ]
  },
  {
   "cell_type": "code",
   "execution_count": 45,
   "metadata": {},
   "outputs": [
    {
     "name": "stdout",
     "output_type": "stream",
     "text": [
      "First name: Alexander, Last name: Carr\n",
      "First name: Christopher, Last name: Case\n"
     ]
    }
   ],
   "source": [
    "query = 'SELECT name, surname FROM people WHERE name LIKE \"%er\" AND surname LIKE \"Ca%\"'\n",
    "for result in cursor.execute(query):\n",
    "    print(f\"First name: {result[0]}, Last name: {result[1]}\")\n",
    "#refer to cheatsheet below\n",
    "#https://learnsql.com/blog/sql-basics-cheat-sheet/"
   ]
  },
  {
   "cell_type": "code",
   "execution_count": 46,
   "metadata": {},
   "outputs": [
    {
     "name": "stdout",
     "output_type": "stream",
     "text": [
      "First name: Eric, Last name: Dickson\n",
      "First name: Robert, Last name: Bennett\n",
      "First name: Alexander, Last name: Juarez\n",
      "First name: Erin, Last name: Campbell\n",
      "First name: Alexander, Last name: Carr\n",
      "First name: Jennifer, Last name: Hamilton\n",
      "First name: Walter, Last name: Gomez\n",
      "First name: Alexander, Last name: Vasquez\n",
      "First name: Alexander, Last name: Douglas\n",
      "First name: Christopher, Last name: Case\n",
      "First name: Heather, Last name: Smith\n",
      "First name: Spencer, Last name: Riley\n"
     ]
    }
   ],
   "source": [
    "query = 'SELECT name, surname FROM people WHERE name LIKE \"%er%\"'\n",
    "for result in cursor.execute(query):\n",
    "    print(f\"First name: {result[0]}, Last name: {result[1]}\")\n",
    "#syntax is \"or\""
   ]
  },
  {
   "cell_type": "code",
   "execution_count": 51,
   "metadata": {},
   "outputs": [
    {
     "name": "stdout",
     "output_type": "stream",
     "text": [
      "First name: Jonathan, Last name: Harris\n",
      "First name: Thomas, Last name: Hoover\n",
      "First name: Jonathan, Last name: Thomas\n",
      "First name: Jonathan, Last name: Mendoza\n",
      "First name: Susan, Last name: White\n",
      "First name: Sarah, Last name: Smith\n",
      "First name: William, Last name: Walker\n",
      "First name: Brian, Last name: Kennedy\n"
     ]
    }
   ],
   "source": [
    "query = 'SELECT name, surname FROM people WHERE name LIKE \"%_a_\"'\n",
    "for result in cursor.execute(query):\n",
    "    print(f\"First name: {result[0]}, Last name: {result[1]}\")\n",
    "#syntax is _ is wildcard. so follow the format where indicated letter is \n",
    "#positioned there followed by/preceded by anything"
   ]
  }
 ],
 "metadata": {
  "kernelspec": {
   "display_name": "Python 3 (ipykernel)",
   "language": "python",
   "name": "python3"
  },
  "language_info": {
   "codemirror_mode": {
    "name": "ipython",
    "version": 3
   },
   "file_extension": ".py",
   "mimetype": "text/x-python",
   "name": "python",
   "nbconvert_exporter": "python",
   "pygments_lexer": "ipython3",
   "version": "3.9.13"
  }
 },
 "nbformat": 4,
 "nbformat_minor": 2
}
